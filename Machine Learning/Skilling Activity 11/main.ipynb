{
 "cells": [
  {
   "cell_type": "code",
   "execution_count": null,
   "metadata": {},
   "outputs": [],
   "source": [
    "import math\n",
    "\n",
    "Heights_UG2 = [5.3, 5.2, 6.3, 6.4, 5.7, 5.8]\n",
    "Heights_6TH = [4.2, 4.3, 4.5, 4.7, 5.1, 4.6]\n",
    "\n",
    "Mean_UG2 = sum(Heights_UG2) / 6\n",
    "Mean_6TH = sum(Heights_6TH) / 6\n",
    "\n",
    "Var_UG2 = sum([(x - Mean_UG2) ** 2 for x in Heights_UG2]) / 6\n",
    "Var_6TH = sum([(x - Mean_6TH) ** 2 for x in Heights_6TH]) / 6\n",
    "\n",
    "def Gaussian_PDF(x, u, s):\n",
    "    return math.exp(-(x - u)**2/(2 * s**2))/(2 * math.pi * s**2)**0.5\n",
    "\n",
    "Likelihood_UG2 = Gaussian_PDF(5.5, Mean_UG2, Var_UG2**0.5)\n",
    "Likelihood_6TH = Gaussian_PDF(5.5, Mean_6TH, Var_6TH**0.5)\n",
    "\n",
    "Aposterior_UG2 = Likelihood_UG2 / (Likelihood_UG2 + Likelihood_6TH)\n",
    "Aposterior_6TH = Likelihood_6TH / (Likelihood_UG2 + Likelihood_6TH)\n",
    "\n",
    "print(Aposterior_6TH)\n",
    "print(Aposterior_UG2)"
   ]
  }
 ],
 "metadata": {
  "kernelspec": {
   "display_name": "Python 3",
   "language": "python",
   "name": "python3"
  },
  "language_info": {
   "name": "python",
   "version": "3.10.10"
  },
  "orig_nbformat": 4,
  "vscode": {
   "interpreter": {
    "hash": "b6c0bc1f8ec241acacbbee2e5cc5a21c587cbc35673870a94c8d30bd090fb945"
   }
  }
 },
 "nbformat": 4,
 "nbformat_minor": 2
}
